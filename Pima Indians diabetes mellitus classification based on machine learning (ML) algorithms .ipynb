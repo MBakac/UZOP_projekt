{
 "cells": [
  {
   "cell_type": "markdown",
   "metadata": {},
   "source": [
    "# Pima Indians diabetes mellitus classification based on machine learning (ML) algorithms\n",
    "#### Projekt iz predmeta Uvod u znanost o podacima\n",
    "---\n",
    "Autor: Martin Bakač \\\n",
    "Referentni članak: [Pima Indians diabetes mellitus...](https://link.springer.com/article/10.1007/s00521-022-07049-z)"
   ]
  },
  {
   "cell_type": "markdown",
   "metadata": {},
   "source": [
    "## 1. Priprema i vizualizacija podataka \n",
    "---\n",
    "Ciljevi:\n",
    "- učitati podatke i pogledati koliko podataka uopće ima ✔️\n",
    "- kakvi su tipovi podataka ✔️\n",
    "- pozabaviti se sa nedostajućim i stršećim vrijednostima ✔️\n",
    "- normalizirati vrijednosti ✔️\n",
    "- malo ih vizualizirati ✔️"
   ]
  },
  {
   "cell_type": "markdown",
   "metadata": {},
   "source": [
    "### 1.1 Učitavanje podataka i tablični prikaz\n",
    "----\n",
    "Podaci su učitani iz .csv tablice. Sastoje se od 768 primjeraka s po 9 značajki opisanih niže."
   ]
  },
  {
   "cell_type": "code",
   "execution_count": 2,
   "metadata": {},
   "outputs": [],
   "source": [
    "# import libraries\n",
    "\n",
    "import csv\n",
    "import numpy as np\n",
    "import pandas as pd\n",
    "import matplotlib.pyplot as plt\n",
    "\n",
    "from sklearn.preprocessing import MinMaxScaler"
   ]
  },
  {
   "cell_type": "code",
   "execution_count": 3,
   "metadata": {},
   "outputs": [
    {
     "data": {
      "text/html": [
       "<div>\n",
       "<style scoped>\n",
       "    .dataframe tbody tr th:only-of-type {\n",
       "        vertical-align: middle;\n",
       "    }\n",
       "\n",
       "    .dataframe tbody tr th {\n",
       "        vertical-align: top;\n",
       "    }\n",
       "\n",
       "    .dataframe thead th {\n",
       "        text-align: right;\n",
       "    }\n",
       "</style>\n",
       "<table border=\"1\" class=\"dataframe\">\n",
       "  <thead>\n",
       "    <tr style=\"text-align: right;\">\n",
       "      <th></th>\n",
       "      <th>Pregnancies</th>\n",
       "      <th>Glucose</th>\n",
       "      <th>BloodPressure</th>\n",
       "      <th>SkinThickness</th>\n",
       "      <th>Insulin</th>\n",
       "      <th>BMI</th>\n",
       "      <th>DiabetesPedigreeFunction</th>\n",
       "      <th>Age</th>\n",
       "      <th>Outcome</th>\n",
       "    </tr>\n",
       "  </thead>\n",
       "  <tbody>\n",
       "    <tr>\n",
       "      <th>0</th>\n",
       "      <td>6</td>\n",
       "      <td>148</td>\n",
       "      <td>72</td>\n",
       "      <td>35</td>\n",
       "      <td>0</td>\n",
       "      <td>33.6</td>\n",
       "      <td>0.627</td>\n",
       "      <td>50</td>\n",
       "      <td>1</td>\n",
       "    </tr>\n",
       "    <tr>\n",
       "      <th>1</th>\n",
       "      <td>1</td>\n",
       "      <td>85</td>\n",
       "      <td>66</td>\n",
       "      <td>29</td>\n",
       "      <td>0</td>\n",
       "      <td>26.6</td>\n",
       "      <td>0.351</td>\n",
       "      <td>31</td>\n",
       "      <td>0</td>\n",
       "    </tr>\n",
       "    <tr>\n",
       "      <th>2</th>\n",
       "      <td>8</td>\n",
       "      <td>183</td>\n",
       "      <td>64</td>\n",
       "      <td>0</td>\n",
       "      <td>0</td>\n",
       "      <td>23.3</td>\n",
       "      <td>0.672</td>\n",
       "      <td>32</td>\n",
       "      <td>1</td>\n",
       "    </tr>\n",
       "    <tr>\n",
       "      <th>3</th>\n",
       "      <td>1</td>\n",
       "      <td>89</td>\n",
       "      <td>66</td>\n",
       "      <td>23</td>\n",
       "      <td>94</td>\n",
       "      <td>28.1</td>\n",
       "      <td>0.167</td>\n",
       "      <td>21</td>\n",
       "      <td>0</td>\n",
       "    </tr>\n",
       "    <tr>\n",
       "      <th>4</th>\n",
       "      <td>0</td>\n",
       "      <td>137</td>\n",
       "      <td>40</td>\n",
       "      <td>35</td>\n",
       "      <td>168</td>\n",
       "      <td>43.1</td>\n",
       "      <td>2.288</td>\n",
       "      <td>33</td>\n",
       "      <td>1</td>\n",
       "    </tr>\n",
       "    <tr>\n",
       "      <th>...</th>\n",
       "      <td>...</td>\n",
       "      <td>...</td>\n",
       "      <td>...</td>\n",
       "      <td>...</td>\n",
       "      <td>...</td>\n",
       "      <td>...</td>\n",
       "      <td>...</td>\n",
       "      <td>...</td>\n",
       "      <td>...</td>\n",
       "    </tr>\n",
       "    <tr>\n",
       "      <th>763</th>\n",
       "      <td>10</td>\n",
       "      <td>101</td>\n",
       "      <td>76</td>\n",
       "      <td>48</td>\n",
       "      <td>180</td>\n",
       "      <td>32.9</td>\n",
       "      <td>0.171</td>\n",
       "      <td>63</td>\n",
       "      <td>0</td>\n",
       "    </tr>\n",
       "    <tr>\n",
       "      <th>764</th>\n",
       "      <td>2</td>\n",
       "      <td>122</td>\n",
       "      <td>70</td>\n",
       "      <td>27</td>\n",
       "      <td>0</td>\n",
       "      <td>36.8</td>\n",
       "      <td>0.340</td>\n",
       "      <td>27</td>\n",
       "      <td>0</td>\n",
       "    </tr>\n",
       "    <tr>\n",
       "      <th>765</th>\n",
       "      <td>5</td>\n",
       "      <td>121</td>\n",
       "      <td>72</td>\n",
       "      <td>23</td>\n",
       "      <td>112</td>\n",
       "      <td>26.2</td>\n",
       "      <td>0.245</td>\n",
       "      <td>30</td>\n",
       "      <td>0</td>\n",
       "    </tr>\n",
       "    <tr>\n",
       "      <th>766</th>\n",
       "      <td>1</td>\n",
       "      <td>126</td>\n",
       "      <td>60</td>\n",
       "      <td>0</td>\n",
       "      <td>0</td>\n",
       "      <td>30.1</td>\n",
       "      <td>0.349</td>\n",
       "      <td>47</td>\n",
       "      <td>1</td>\n",
       "    </tr>\n",
       "    <tr>\n",
       "      <th>767</th>\n",
       "      <td>1</td>\n",
       "      <td>93</td>\n",
       "      <td>70</td>\n",
       "      <td>31</td>\n",
       "      <td>0</td>\n",
       "      <td>30.4</td>\n",
       "      <td>0.315</td>\n",
       "      <td>23</td>\n",
       "      <td>0</td>\n",
       "    </tr>\n",
       "  </tbody>\n",
       "</table>\n",
       "<p>768 rows × 9 columns</p>\n",
       "</div>"
      ],
      "text/plain": [
       "     Pregnancies  Glucose  BloodPressure  SkinThickness  Insulin   BMI  \\\n",
       "0              6      148             72             35        0  33.6   \n",
       "1              1       85             66             29        0  26.6   \n",
       "2              8      183             64              0        0  23.3   \n",
       "3              1       89             66             23       94  28.1   \n",
       "4              0      137             40             35      168  43.1   \n",
       "..           ...      ...            ...            ...      ...   ...   \n",
       "763           10      101             76             48      180  32.9   \n",
       "764            2      122             70             27        0  36.8   \n",
       "765            5      121             72             23      112  26.2   \n",
       "766            1      126             60              0        0  30.1   \n",
       "767            1       93             70             31        0  30.4   \n",
       "\n",
       "     DiabetesPedigreeFunction  Age  Outcome  \n",
       "0                       0.627   50        1  \n",
       "1                       0.351   31        0  \n",
       "2                       0.672   32        1  \n",
       "3                       0.167   21        0  \n",
       "4                       2.288   33        1  \n",
       "..                        ...  ...      ...  \n",
       "763                     0.171   63        0  \n",
       "764                     0.340   27        0  \n",
       "765                     0.245   30        0  \n",
       "766                     0.349   47        1  \n",
       "767                     0.315   23        0  \n",
       "\n",
       "[768 rows x 9 columns]"
      ]
     },
     "execution_count": 3,
     "metadata": {},
     "output_type": "execute_result"
    }
   ],
   "source": [
    "# load and show data\n",
    "\n",
    "FILE_PATH = './data/diabetes.csv'\n",
    "data = pd.read_csv(FILE_PATH)\n",
    "\n",
    "data"
   ]
  },
  {
   "cell_type": "markdown",
   "metadata": {},
   "source": [
    "### 1.2 Opis i tipovi podataka\n",
    "----\n",
    "Sadržaj tablice su popis značajki i opis istih preuzet s stanice skupa podataka te tip podatka dobiven s [`DataFrame.dtypes`](https://pandas.pydata.org/docs/reference/api/pandas.DataFrame.dtypes.html#pandas-dataframe-dtypes). \n",
    "\n",
    "| Feature                   | Description                                                | Data Type  |\n",
    "|:--------------------------|:-----------------------------------------------------------|:-----------|\n",
    "| Pregnancies               | Number of times pregnant                                   | int64      |\n",
    "    | Glucose                   | Plasma glucose concentration a 2 hours in an oral glucose tolerance test | int64 |\n",
    "| BloodPressure             | Diastolic blood pressure (mm Hg)                          | int64      |\n",
    "| SkinThickness             | Triceps skin fold thickness (mm)                           | int64      |\n",
    "| Insulin                   | 2-Hour serum insulin (mu U/ml)                            | int64      |\n",
    "| BMI                       | Body mass index (weight in kg/(height in m)^2)            | float64    |\n",
    "| DiabetesPedigreeFunction  | Diabetes pedigree function                                | float64    |\n",
    "| Age                       | Age (years)                                                | int64      |\n",
    "| Outcome                   | Class variable (0 or 1) 268 of 768 are 1, the others are 0 | int64 (effectively boolean)     |\n"
   ]
  },
  {
   "cell_type": "markdown",
   "metadata": {},
   "source": [
    "### 1.3 Nedostajuće i stršeće vrijednosti\n",
    "----\n",
    "#### 1.3.1 Deskriptivna statistika\n",
    "----\n",
    "Lako provedena s [`DataFrame.describe()`](https://pandas.pydata.org/pandas-docs/stable/reference/api/pandas.DataFrame.describe.html)."
   ]
  },
  {
   "cell_type": "code",
   "execution_count": 4,
   "metadata": {},
   "outputs": [
    {
     "data": {
      "text/html": [
       "<div>\n",
       "<style scoped>\n",
       "    .dataframe tbody tr th:only-of-type {\n",
       "        vertical-align: middle;\n",
       "    }\n",
       "\n",
       "    .dataframe tbody tr th {\n",
       "        vertical-align: top;\n",
       "    }\n",
       "\n",
       "    .dataframe thead th {\n",
       "        text-align: right;\n",
       "    }\n",
       "</style>\n",
       "<table border=\"1\" class=\"dataframe\">\n",
       "  <thead>\n",
       "    <tr style=\"text-align: right;\">\n",
       "      <th></th>\n",
       "      <th>Pregnancies</th>\n",
       "      <th>Glucose</th>\n",
       "      <th>BloodPressure</th>\n",
       "      <th>SkinThickness</th>\n",
       "      <th>Insulin</th>\n",
       "      <th>BMI</th>\n",
       "      <th>DiabetesPedigreeFunction</th>\n",
       "      <th>Age</th>\n",
       "      <th>Outcome</th>\n",
       "    </tr>\n",
       "  </thead>\n",
       "  <tbody>\n",
       "    <tr>\n",
       "      <th>count</th>\n",
       "      <td>768.000000</td>\n",
       "      <td>768.000000</td>\n",
       "      <td>768.000000</td>\n",
       "      <td>768.000000</td>\n",
       "      <td>768.000000</td>\n",
       "      <td>768.000000</td>\n",
       "      <td>768.000000</td>\n",
       "      <td>768.000000</td>\n",
       "      <td>768.000000</td>\n",
       "    </tr>\n",
       "    <tr>\n",
       "      <th>mean</th>\n",
       "      <td>3.845052</td>\n",
       "      <td>120.894531</td>\n",
       "      <td>69.105469</td>\n",
       "      <td>20.536458</td>\n",
       "      <td>79.799479</td>\n",
       "      <td>31.992578</td>\n",
       "      <td>0.471876</td>\n",
       "      <td>33.240885</td>\n",
       "      <td>0.348958</td>\n",
       "    </tr>\n",
       "    <tr>\n",
       "      <th>std</th>\n",
       "      <td>3.369578</td>\n",
       "      <td>31.972618</td>\n",
       "      <td>19.355807</td>\n",
       "      <td>15.952218</td>\n",
       "      <td>115.244002</td>\n",
       "      <td>7.884160</td>\n",
       "      <td>0.331329</td>\n",
       "      <td>11.760232</td>\n",
       "      <td>0.476951</td>\n",
       "    </tr>\n",
       "    <tr>\n",
       "      <th>min</th>\n",
       "      <td>0.000000</td>\n",
       "      <td>0.000000</td>\n",
       "      <td>0.000000</td>\n",
       "      <td>0.000000</td>\n",
       "      <td>0.000000</td>\n",
       "      <td>0.000000</td>\n",
       "      <td>0.078000</td>\n",
       "      <td>21.000000</td>\n",
       "      <td>0.000000</td>\n",
       "    </tr>\n",
       "    <tr>\n",
       "      <th>25%</th>\n",
       "      <td>1.000000</td>\n",
       "      <td>99.000000</td>\n",
       "      <td>62.000000</td>\n",
       "      <td>0.000000</td>\n",
       "      <td>0.000000</td>\n",
       "      <td>27.300000</td>\n",
       "      <td>0.243750</td>\n",
       "      <td>24.000000</td>\n",
       "      <td>0.000000</td>\n",
       "    </tr>\n",
       "    <tr>\n",
       "      <th>50%</th>\n",
       "      <td>3.000000</td>\n",
       "      <td>117.000000</td>\n",
       "      <td>72.000000</td>\n",
       "      <td>23.000000</td>\n",
       "      <td>30.500000</td>\n",
       "      <td>32.000000</td>\n",
       "      <td>0.372500</td>\n",
       "      <td>29.000000</td>\n",
       "      <td>0.000000</td>\n",
       "    </tr>\n",
       "    <tr>\n",
       "      <th>75%</th>\n",
       "      <td>6.000000</td>\n",
       "      <td>140.250000</td>\n",
       "      <td>80.000000</td>\n",
       "      <td>32.000000</td>\n",
       "      <td>127.250000</td>\n",
       "      <td>36.600000</td>\n",
       "      <td>0.626250</td>\n",
       "      <td>41.000000</td>\n",
       "      <td>1.000000</td>\n",
       "    </tr>\n",
       "    <tr>\n",
       "      <th>max</th>\n",
       "      <td>17.000000</td>\n",
       "      <td>199.000000</td>\n",
       "      <td>122.000000</td>\n",
       "      <td>99.000000</td>\n",
       "      <td>846.000000</td>\n",
       "      <td>67.100000</td>\n",
       "      <td>2.420000</td>\n",
       "      <td>81.000000</td>\n",
       "      <td>1.000000</td>\n",
       "    </tr>\n",
       "  </tbody>\n",
       "</table>\n",
       "</div>"
      ],
      "text/plain": [
       "       Pregnancies     Glucose  BloodPressure  SkinThickness     Insulin  \\\n",
       "count   768.000000  768.000000     768.000000     768.000000  768.000000   \n",
       "mean      3.845052  120.894531      69.105469      20.536458   79.799479   \n",
       "std       3.369578   31.972618      19.355807      15.952218  115.244002   \n",
       "min       0.000000    0.000000       0.000000       0.000000    0.000000   \n",
       "25%       1.000000   99.000000      62.000000       0.000000    0.000000   \n",
       "50%       3.000000  117.000000      72.000000      23.000000   30.500000   \n",
       "75%       6.000000  140.250000      80.000000      32.000000  127.250000   \n",
       "max      17.000000  199.000000     122.000000      99.000000  846.000000   \n",
       "\n",
       "              BMI  DiabetesPedigreeFunction         Age     Outcome  \n",
       "count  768.000000                768.000000  768.000000  768.000000  \n",
       "mean    31.992578                  0.471876   33.240885    0.348958  \n",
       "std      7.884160                  0.331329   11.760232    0.476951  \n",
       "min      0.000000                  0.078000   21.000000    0.000000  \n",
       "25%     27.300000                  0.243750   24.000000    0.000000  \n",
       "50%     32.000000                  0.372500   29.000000    0.000000  \n",
       "75%     36.600000                  0.626250   41.000000    1.000000  \n",
       "max     67.100000                  2.420000   81.000000    1.000000  "
      ]
     },
     "execution_count": 4,
     "metadata": {},
     "output_type": "execute_result"
    }
   ],
   "source": [
    "data.describe()"
   ]
  },
  {
   "cell_type": "markdown",
   "metadata": {},
   "source": [
    "#### 1.3.2 Nedostajuće vrijednosti\n",
    "----\n",
    "Pandas podržava rad s nedostajućim vrijednostim a pa možemo generirati masku istih s [`DataFrame.isna()`](https://pandas.pydata.org/docs/reference/api/pandas.DataFrame.isna.html#pandas.DataFrame.isna). Zatim s [`DataFrame.value_counts()`](https://pandas.pydata.org/docs/user_guide/basics.html#value-counts-histogramming-mode)  dobimo broj pojavljanja svake različite vrijednosti maske.\n",
    "\\\n",
    "\\\n",
    "Vidimo da nedostajućih vrijednosti kako ih pandas definira nema."
   ]
  },
  {
   "cell_type": "code",
   "execution_count": 5,
   "metadata": {},
   "outputs": [
    {
     "data": {
      "text/plain": [
       "Pregnancies  Glucose  BloodPressure  SkinThickness  Insulin  BMI    DiabetesPedigreeFunction  Age    Outcome\n",
       "False        False    False          False          False    False  False                     False  False      768\n",
       "Name: count, dtype: int64"
      ]
     },
     "execution_count": 5,
     "metadata": {},
     "output_type": "execute_result"
    }
   ],
   "source": [
    "missing_mask = data.isna()\n",
    "missing_mask.value_counts()"
   ]
  },
  {
   "cell_type": "markdown",
   "metadata": {},
   "source": [
    "#### 1.3.2 Stršeće vrijednosti\n",
    "----\n",
    "Crtanjem [boxploteva](https://en.wikipedia.org/wiki/Box_plot) možemo vidjeti stršeće vrijednosti. Isključena je značajka *Outcome* jer je nominalna.\n",
    "\\\n",
    "Gledajući raspon podataka, neke stvari su sumnjivie, primjerice krvni tlak kod živih ljudi nebi smio biti 0, kao niti BMI, koncentracija glukoze u krvi niti debljina kože. Isti problem se navodi i u referentnom članku. U članku tvrde da isto vrijedi i za koncentraciju inzulina u krvi, no, jer nisam stručnjak niti sam uspio pronaći izvor koji to potvrđuje ili opovrgava pretpostavit ću su vrijednosti te značajke u normalnom rasponu. "
   ]
  },
  {
   "cell_type": "code",
   "execution_count": 6,
   "metadata": {},
   "outputs": [
    {
     "data": {
      "image/png": "[encoded data removed]",
      "text/plain": [
       "<Figure size 1080x1080 with 8 Axes>"
      ]
     },
     "metadata": {
      "needs_background": "light"
     },
     "output_type": "display_data"
    }
   ],
   "source": [
    "# after looking at pd.DataFrame.boxplot this might be unnecessary\n",
    "def boxPlot(data: pd.DataFrame):\n",
    "    plt.figure(figsize=(15,15))\n",
    "    for i, column in enumerate(data.loc[:, data.columns != 'Outcome']):\n",
    "        plt.subplot(3,3,i+1)\n",
    "        data.boxplot([column])\n",
    "            \n",
    "boxPlot(data)"
   ]
  },
  {
   "cell_type": "markdown",
   "metadata": {},
   "source": [
    "Promatrajući grafove, vidljivi su gore navedeni nedostaci kao stršeće vrijednosti, a kod debljine kože izgleda da je cijeli skup dosta iskrivljen - cijeli prvi kvartal dakle 25% ili više ima vrijednost 0 koja je nemoguća."
   ]
  },
  {
   "cell_type": "code",
   "execution_count": 7,
   "metadata": {},
   "outputs": [
    {
     "name": "stdout",
     "output_type": "stream",
     "text": [
      "Broj uzoraka gdje je 'SkinThickness'==0: 227\n"
     ]
    }
   ],
   "source": [
    "print(f\"Broj uzoraka gdje je 'SkinThickness'==0: {data['SkinThickness'].value_counts()[0]}\")"
   ]
  },
  {
   "cell_type": "code",
   "execution_count": 8,
   "metadata": {},
   "outputs": [
    {
     "name": "stdout",
     "output_type": "stream",
     "text": [
      "deleted 227 samples, property: SkinThickness\n",
      "deleted   2 samples, property: BloodPressure\n",
      "deleted   2 samples, property: BMI\n",
      "deleted   5 samples, property: Glucose\n"
     ]
    },
    {
     "data": {
      "text/plain": [
       "(532, 9)"
      ]
     },
     "execution_count": 8,
     "metadata": {},
     "output_type": "execute_result"
    }
   ],
   "source": [
    "# see what removing impossible values does to the number of samples\n",
    "testData = data.copy(deep=True)\n",
    "\n",
    "# returns input dataframe with removed zero values for given property\n",
    "def removeZeroValues(data: pd.DataFrame, property: str, printNumberOfRemoved: bool = False) -> pd.DataFrame:\n",
    "    newData = data[data[property] != 0]\n",
    "    if printNumberOfRemoved: print(f\"deleted {data.shape[0] - newData.shape[0]:3} samples, property: {property}\")\n",
    "    return newData\n",
    "\n",
    "testData = removeZeroValues(testData, 'SkinThickness', printNumberOfRemoved=True)\n",
    "testData = removeZeroValues(testData, 'BloodPressure', printNumberOfRemoved=True)\n",
    "testData = removeZeroValues(testData, 'BMI', printNumberOfRemoved=True)\n",
    "testData = removeZeroValues(testData, 'Glucose', printNumberOfRemoved=True)\n",
    "\n",
    "testData.shape"
   ]
  },
  {
   "cell_type": "markdown",
   "metadata": {},
   "source": [
    "Ukoliko bismo micali iz skupa sve retke s \"nemogućim\" vrijednostima broj uzoraka bi nam pao na 532 (-30.7%). Najveći \"krivac\" za ovje je \"SkinThickness\" pa, kako bi očuvali velik broj uzoraka za tu značajku, ću vrijednosti 0 promijeniti na srednju vrijednost ostalih uz šum kako bih očuvao srednju vrijednost i varijancu.\\\n",
    "Za ostale značajke sam uklonio nemoguće vrijednosti jer ih je svega 9."
   ]
  },
  {
   "cell_type": "code",
   "execution_count": 9,
   "metadata": {},
   "outputs": [],
   "source": [
    "data = removeZeroValues(data, 'BloodPressure')\n",
    "data = removeZeroValues(data, 'BMI')\n",
    "data = removeZeroValues(data, 'Glucose')\n",
    "\n",
    "# changes zero values of given DataFrame to the mean of the rest\n",
    "def changeZeroValuesToMean(data: pd.DataFrame, property: str) -> pd.DataFrame:\n",
    "    meanData = data.copy(deep=True)\n",
    "    meanData = removeZeroValues(meanData, property)\n",
    "    mean, std = meanData[property].mean(), np.sqrt(meanData[property].var())\n",
    "    \n",
    "    data.loc[data[property] == 0, property] = mean + np.random.normal(mean, std, data[property].eq(0).sum())\n",
    "    \n",
    "    return data\n",
    "\n",
    "data = changeZeroValuesToMean(data, 'SkinThickness')"
   ]
  },
  {
   "cell_type": "code",
   "execution_count": 10,
   "metadata": {},
   "outputs": [
    {
     "data": {
      "text/html": [
       "<div>\n",
       "<style scoped>\n",
       "    .dataframe tbody tr th:only-of-type {\n",
       "        vertical-align: middle;\n",
       "    }\n",
       "\n",
       "    .dataframe tbody tr th {\n",
       "        vertical-align: top;\n",
       "    }\n",
       "\n",
       "    .dataframe thead th {\n",
       "        text-align: right;\n",
       "    }\n",
       "</style>\n",
       "<table border=\"1\" class=\"dataframe\">\n",
       "  <thead>\n",
       "    <tr style=\"text-align: right;\">\n",
       "      <th></th>\n",
       "      <th>Pregnancies</th>\n",
       "      <th>Glucose</th>\n",
       "      <th>BloodPressure</th>\n",
       "      <th>SkinThickness</th>\n",
       "      <th>Insulin</th>\n",
       "      <th>BMI</th>\n",
       "      <th>DiabetesPedigreeFunction</th>\n",
       "      <th>Age</th>\n",
       "      <th>Outcome</th>\n",
       "    </tr>\n",
       "  </thead>\n",
       "  <tbody>\n",
       "    <tr>\n",
       "      <th>count</th>\n",
       "      <td>724.000000</td>\n",
       "      <td>724.000000</td>\n",
       "      <td>724.000000</td>\n",
       "      <td>724.000000</td>\n",
       "      <td>724.000000</td>\n",
       "      <td>724.000000</td>\n",
       "      <td>724.000000</td>\n",
       "      <td>724.000000</td>\n",
       "      <td>724.000000</td>\n",
       "    </tr>\n",
       "    <tr>\n",
       "      <th>mean</th>\n",
       "      <td>3.866022</td>\n",
       "      <td>121.882597</td>\n",
       "      <td>72.400552</td>\n",
       "      <td>36.693931</td>\n",
       "      <td>84.494475</td>\n",
       "      <td>32.467127</td>\n",
       "      <td>0.474765</td>\n",
       "      <td>33.350829</td>\n",
       "      <td>0.343923</td>\n",
       "    </tr>\n",
       "    <tr>\n",
       "      <th>std</th>\n",
       "      <td>3.362803</td>\n",
       "      <td>30.750030</td>\n",
       "      <td>12.379870</td>\n",
       "      <td>16.417343</td>\n",
       "      <td>117.016513</td>\n",
       "      <td>6.888941</td>\n",
       "      <td>0.332315</td>\n",
       "      <td>11.765393</td>\n",
       "      <td>0.475344</td>\n",
       "    </tr>\n",
       "    <tr>\n",
       "      <th>min</th>\n",
       "      <td>0.000000</td>\n",
       "      <td>44.000000</td>\n",
       "      <td>24.000000</td>\n",
       "      <td>7.000000</td>\n",
       "      <td>0.000000</td>\n",
       "      <td>18.200000</td>\n",
       "      <td>0.078000</td>\n",
       "      <td>21.000000</td>\n",
       "      <td>0.000000</td>\n",
       "    </tr>\n",
       "    <tr>\n",
       "      <th>25%</th>\n",
       "      <td>1.000000</td>\n",
       "      <td>99.750000</td>\n",
       "      <td>64.000000</td>\n",
       "      <td>25.000000</td>\n",
       "      <td>0.000000</td>\n",
       "      <td>27.500000</td>\n",
       "      <td>0.245000</td>\n",
       "      <td>24.000000</td>\n",
       "      <td>0.000000</td>\n",
       "    </tr>\n",
       "    <tr>\n",
       "      <th>50%</th>\n",
       "      <td>3.000000</td>\n",
       "      <td>117.000000</td>\n",
       "      <td>72.000000</td>\n",
       "      <td>33.000000</td>\n",
       "      <td>48.000000</td>\n",
       "      <td>32.400000</td>\n",
       "      <td>0.379000</td>\n",
       "      <td>29.000000</td>\n",
       "      <td>0.000000</td>\n",
       "    </tr>\n",
       "    <tr>\n",
       "      <th>75%</th>\n",
       "      <td>6.000000</td>\n",
       "      <td>142.000000</td>\n",
       "      <td>80.000000</td>\n",
       "      <td>47.000000</td>\n",
       "      <td>130.500000</td>\n",
       "      <td>36.600000</td>\n",
       "      <td>0.627500</td>\n",
       "      <td>41.000000</td>\n",
       "      <td>1.000000</td>\n",
       "    </tr>\n",
       "    <tr>\n",
       "      <th>max</th>\n",
       "      <td>17.000000</td>\n",
       "      <td>199.000000</td>\n",
       "      <td>122.000000</td>\n",
       "      <td>99.000000</td>\n",
       "      <td>846.000000</td>\n",
       "      <td>67.100000</td>\n",
       "      <td>2.420000</td>\n",
       "      <td>81.000000</td>\n",
       "      <td>1.000000</td>\n",
       "    </tr>\n",
       "  </tbody>\n",
       "</table>\n",
       "</div>"
      ],
      "text/plain": [
       "       Pregnancies     Glucose  BloodPressure  SkinThickness     Insulin  \\\n",
       "count   724.000000  724.000000     724.000000     724.000000  724.000000   \n",
       "mean      3.866022  121.882597      72.400552      36.693931   84.494475   \n",
       "std       3.362803   30.750030      12.379870      16.417343  117.016513   \n",
       "min       0.000000   44.000000      24.000000       7.000000    0.000000   \n",
       "25%       1.000000   99.750000      64.000000      25.000000    0.000000   \n",
       "50%       3.000000  117.000000      72.000000      33.000000   48.000000   \n",
       "75%       6.000000  142.000000      80.000000      47.000000  130.500000   \n",
       "max      17.000000  199.000000     122.000000      99.000000  846.000000   \n",
       "\n",
       "              BMI  DiabetesPedigreeFunction         Age     Outcome  \n",
       "count  724.000000                724.000000  724.000000  724.000000  \n",
       "mean    32.467127                  0.474765   33.350829    0.343923  \n",
       "std      6.888941                  0.332315   11.765393    0.475344  \n",
       "min     18.200000                  0.078000   21.000000    0.000000  \n",
       "25%     27.500000                  0.245000   24.000000    0.000000  \n",
       "50%     32.400000                  0.379000   29.000000    0.000000  \n",
       "75%     36.600000                  0.627500   41.000000    1.000000  \n",
       "max     67.100000                  2.420000   81.000000    1.000000  "
      ]
     },
     "execution_count": 10,
     "metadata": {},
     "output_type": "execute_result"
    }
   ],
   "source": [
    "data.describe()"
   ]
  },
  {
   "cell_type": "code",
   "execution_count": 11,
   "metadata": {},
   "outputs": [
    {
     "data": {
      "image/png": "[encoded data removed]",
      "text/plain": [
       "<Figure size 1080x1080 with 8 Axes>"
      ]
     },
     "metadata": {
      "needs_background": "light"
     },
     "output_type": "display_data"
    }
   ],
   "source": [
    "boxPlot(data)"
   ]
  },
  {
   "cell_type": "markdown",
   "metadata": {},
   "source": [
    "Skup podataka nam se sad satoji od 724 primjera, a vrijenosti značajke \"SkinThickness\" gdje je bila 0 su postavljene na srednju vrijednost. Nisam siguran jeli ovo korektan pristu pa molim asistenta da komentira.\n",
    "\\\n",
    "Iako daljnje stršeće vrijednosti postoje, odlučio sam ih ne uklanjati jer bi dovoljno dobar model trebao biti rebustan na njih. Kasnije ih možemo maknuti i vidjeti poboljšava li to performanse modela."
   ]
  },
  {
   "cell_type": "markdown",
   "metadata": {},
   "source": [
    "### 1.4 Normalizacija\n",
    "----\n",
    "Provedena je [MinMax](https://scikit-learn.org/stable/modules/generated/sklearn.preprocessing.MinMaxScaler.html) normalizacija pomoću biblioteke [scikit-learn](https://scikit-learn.org/stable/index.html)."
   ]
  },
  {
   "cell_type": "code",
   "execution_count": 12,
   "metadata": {},
   "outputs": [
    {
     "data": {
      "text/html": [
       "<div>\n",
       "<style scoped>\n",
       "    .dataframe tbody tr th:only-of-type {\n",
       "        vertical-align: middle;\n",
       "    }\n",
       "\n",
       "    .dataframe tbody tr th {\n",
       "        vertical-align: top;\n",
       "    }\n",
       "\n",
       "    .dataframe thead th {\n",
       "        text-align: right;\n",
       "    }\n",
       "</style>\n",
       "<table border=\"1\" class=\"dataframe\">\n",
       "  <thead>\n",
       "    <tr style=\"text-align: right;\">\n",
       "      <th></th>\n",
       "      <th>Pregnancies</th>\n",
       "      <th>Glucose</th>\n",
       "      <th>BloodPressure</th>\n",
       "      <th>SkinThickness</th>\n",
       "      <th>Insulin</th>\n",
       "      <th>BMI</th>\n",
       "      <th>DiabetesPedigreeFunction</th>\n",
       "      <th>Age</th>\n",
       "      <th>Outcome</th>\n",
       "    </tr>\n",
       "  </thead>\n",
       "  <tbody>\n",
       "    <tr>\n",
       "      <th>0</th>\n",
       "      <td>0.352941</td>\n",
       "      <td>0.670968</td>\n",
       "      <td>0.489796</td>\n",
       "      <td>0.304348</td>\n",
       "      <td>0.000000</td>\n",
       "      <td>0.314928</td>\n",
       "      <td>0.234415</td>\n",
       "      <td>0.483333</td>\n",
       "      <td>1.0</td>\n",
       "    </tr>\n",
       "    <tr>\n",
       "      <th>1</th>\n",
       "      <td>0.058824</td>\n",
       "      <td>0.264516</td>\n",
       "      <td>0.428571</td>\n",
       "      <td>0.239130</td>\n",
       "      <td>0.000000</td>\n",
       "      <td>0.171779</td>\n",
       "      <td>0.116567</td>\n",
       "      <td>0.166667</td>\n",
       "      <td>0.0</td>\n",
       "    </tr>\n",
       "    <tr>\n",
       "      <th>2</th>\n",
       "      <td>0.470588</td>\n",
       "      <td>0.896774</td>\n",
       "      <td>0.408163</td>\n",
       "      <td>0.421026</td>\n",
       "      <td>0.000000</td>\n",
       "      <td>0.104294</td>\n",
       "      <td>0.253629</td>\n",
       "      <td>0.183333</td>\n",
       "      <td>1.0</td>\n",
       "    </tr>\n",
       "    <tr>\n",
       "      <th>3</th>\n",
       "      <td>0.058824</td>\n",
       "      <td>0.290323</td>\n",
       "      <td>0.428571</td>\n",
       "      <td>0.173913</td>\n",
       "      <td>0.111111</td>\n",
       "      <td>0.202454</td>\n",
       "      <td>0.038002</td>\n",
       "      <td>0.000000</td>\n",
       "      <td>0.0</td>\n",
       "    </tr>\n",
       "    <tr>\n",
       "      <th>4</th>\n",
       "      <td>0.000000</td>\n",
       "      <td>0.600000</td>\n",
       "      <td>0.163265</td>\n",
       "      <td>0.304348</td>\n",
       "      <td>0.198582</td>\n",
       "      <td>0.509202</td>\n",
       "      <td>0.943638</td>\n",
       "      <td>0.200000</td>\n",
       "      <td>1.0</td>\n",
       "    </tr>\n",
       "    <tr>\n",
       "      <th>...</th>\n",
       "      <td>...</td>\n",
       "      <td>...</td>\n",
       "      <td>...</td>\n",
       "      <td>...</td>\n",
       "      <td>...</td>\n",
       "      <td>...</td>\n",
       "      <td>...</td>\n",
       "      <td>...</td>\n",
       "      <td>...</td>\n",
       "    </tr>\n",
       "    <tr>\n",
       "      <th>719</th>\n",
       "      <td>0.588235</td>\n",
       "      <td>0.367742</td>\n",
       "      <td>0.530612</td>\n",
       "      <td>0.445652</td>\n",
       "      <td>0.212766</td>\n",
       "      <td>0.300613</td>\n",
       "      <td>0.039710</td>\n",
       "      <td>0.700000</td>\n",
       "      <td>0.0</td>\n",
       "    </tr>\n",
       "    <tr>\n",
       "      <th>720</th>\n",
       "      <td>0.117647</td>\n",
       "      <td>0.503226</td>\n",
       "      <td>0.469388</td>\n",
       "      <td>0.217391</td>\n",
       "      <td>0.000000</td>\n",
       "      <td>0.380368</td>\n",
       "      <td>0.111870</td>\n",
       "      <td>0.100000</td>\n",
       "      <td>0.0</td>\n",
       "    </tr>\n",
       "    <tr>\n",
       "      <th>721</th>\n",
       "      <td>0.294118</td>\n",
       "      <td>0.496774</td>\n",
       "      <td>0.489796</td>\n",
       "      <td>0.173913</td>\n",
       "      <td>0.132388</td>\n",
       "      <td>0.163599</td>\n",
       "      <td>0.071307</td>\n",
       "      <td>0.150000</td>\n",
       "      <td>0.0</td>\n",
       "    </tr>\n",
       "    <tr>\n",
       "      <th>722</th>\n",
       "      <td>0.058824</td>\n",
       "      <td>0.529032</td>\n",
       "      <td>0.367347</td>\n",
       "      <td>0.454464</td>\n",
       "      <td>0.000000</td>\n",
       "      <td>0.243354</td>\n",
       "      <td>0.115713</td>\n",
       "      <td>0.433333</td>\n",
       "      <td>1.0</td>\n",
       "    </tr>\n",
       "    <tr>\n",
       "      <th>723</th>\n",
       "      <td>0.058824</td>\n",
       "      <td>0.316129</td>\n",
       "      <td>0.469388</td>\n",
       "      <td>0.260870</td>\n",
       "      <td>0.000000</td>\n",
       "      <td>0.249489</td>\n",
       "      <td>0.101196</td>\n",
       "      <td>0.033333</td>\n",
       "      <td>0.0</td>\n",
       "    </tr>\n",
       "  </tbody>\n",
       "</table>\n",
       "<p>724 rows × 9 columns</p>\n",
       "</div>"
      ],
      "text/plain": [
       "     Pregnancies   Glucose  BloodPressure  SkinThickness   Insulin       BMI  \\\n",
       "0       0.352941  0.670968       0.489796       0.304348  0.000000  0.314928   \n",
       "1       0.058824  0.264516       0.428571       0.239130  0.000000  0.171779   \n",
       "2       0.470588  0.896774       0.408163       0.421026  0.000000  0.104294   \n",
       "3       0.058824  0.290323       0.428571       0.173913  0.111111  0.202454   \n",
       "4       0.000000  0.600000       0.163265       0.304348  0.198582  0.509202   \n",
       "..           ...       ...            ...            ...       ...       ...   \n",
       "719     0.588235  0.367742       0.530612       0.445652  0.212766  0.300613   \n",
       "720     0.117647  0.503226       0.469388       0.217391  0.000000  0.380368   \n",
       "721     0.294118  0.496774       0.489796       0.173913  0.132388  0.163599   \n",
       "722     0.058824  0.529032       0.367347       0.454464  0.000000  0.243354   \n",
       "723     0.058824  0.316129       0.469388       0.260870  0.000000  0.249489   \n",
       "\n",
       "     DiabetesPedigreeFunction       Age  Outcome  \n",
       "0                    0.234415  0.483333      1.0  \n",
       "1                    0.116567  0.166667      0.0  \n",
       "2                    0.253629  0.183333      1.0  \n",
       "3                    0.038002  0.000000      0.0  \n",
       "4                    0.943638  0.200000      1.0  \n",
       "..                        ...       ...      ...  \n",
       "719                  0.039710  0.700000      0.0  \n",
       "720                  0.111870  0.100000      0.0  \n",
       "721                  0.071307  0.150000      0.0  \n",
       "722                  0.115713  0.433333      1.0  \n",
       "723                  0.101196  0.033333      0.0  \n",
       "\n",
       "[724 rows x 9 columns]"
      ]
     },
     "execution_count": 12,
     "metadata": {},
     "output_type": "execute_result"
    }
   ],
   "source": [
    "scaled = MinMaxScaler().fit_transform(data)\n",
    "scaled_data = pd.DataFrame(scaled, columns=data.columns)\n",
    "\n",
    "data = scaled_data\n",
    "scaled_data"
   ]
  },
  {
   "cell_type": "markdown",
   "metadata": {},
   "source": [
    "### 1.5 Vizulaizacija\n",
    "----\n",
    "Ponovo je nacrtan box plot, sada s normaliziranim vrijednostima. Te boxploteve po ishodu - \"Outcome\" polju."
   ]
  },
  {
   "cell_type": "code",
   "execution_count": 13,
   "metadata": {},
   "outputs": [
    {
     "data": {
      "image/png": "[encoded data removed]",
      "text/plain": [
       "<Figure size 1080x1080 with 8 Axes>"
      ]
     },
     "metadata": {
      "needs_background": "light"
     },
     "output_type": "display_data"
    }
   ],
   "source": [
    "boxPlot(data)"
   ]
  },
  {
   "cell_type": "code",
   "execution_count": 14,
   "metadata": {},
   "outputs": [
    {
     "data": {
      "text/plain": [
       "array([[<AxesSubplot:title={'center':'Age'}, xlabel='[Outcome]'>,\n",
       "        <AxesSubplot:title={'center':'BMI'}, xlabel='[Outcome]'>,\n",
       "        <AxesSubplot:title={'center':'BloodPressure'}, xlabel='[Outcome]'>],\n",
       "       [<AxesSubplot:title={'center':'DiabetesPedigreeFunction'}, xlabel='[Outcome]'>,\n",
       "        <AxesSubplot:title={'center':'Glucose'}, xlabel='[Outcome]'>,\n",
       "        <AxesSubplot:title={'center':'Insulin'}, xlabel='[Outcome]'>],\n",
       "       [<AxesSubplot:title={'center':'Pregnancies'}, xlabel='[Outcome]'>,\n",
       "        <AxesSubplot:title={'center':'SkinThickness'}, xlabel='[Outcome]'>,\n",
       "        <AxesSubplot:>]], dtype=object)"
      ]
     },
     "execution_count": 14,
     "metadata": {},
     "output_type": "execute_result"
    },
    {
     "data": {
      "image/png": "[encoded data removed]",
      "text/plain": [
       "<Figure size 1080x1080 with 9 Axes>"
      ]
     },
     "metadata": {
      "needs_background": "light"
     },
     "output_type": "display_data"
    }
   ],
   "source": [
    "data.boxplot(figsize=(15,15), by='Outcome')"
   ]
  },
  {
   "cell_type": "markdown",
   "metadata": {},
   "source": [
    "Usporedbom boxploteva podjeljenih po ishodu može dobiti intuiciju o tome je li i kao je koja druga značajka korelirana.\n",
    "\\\n",
    "Dolje je prikazan histogram značajke 'Insulin' jer naizgled ima najviše stršećih vrijednosti pa možemo vidjeti otprilike u kojem se udjelu pojavljuju."
   ]
  },
  {
   "cell_type": "code",
   "execution_count": 15,
   "metadata": {},
   "outputs": [
    {
     "data": {
      "text/plain": [
       "<AxesSubplot:>"
      ]
     },
     "execution_count": 15,
     "metadata": {},
     "output_type": "execute_result"
    },
    {
     "data": {
      "image/png": "[encoded data removed]",
      "text/plain": [
       "<Figure size 432x288 with 1 Axes>"
      ]
     },
     "metadata": {
      "needs_background": "light"
     },
     "output_type": "display_data"
    }
   ],
   "source": [
    "data['Insulin'].hist()"
   ]
  },
  {
   "cell_type": "markdown",
   "metadata": {},
   "source": [
    "Zanimao me odnos distribucija trudnoća između skupina s različitim ishodima."
   ]
  },
  {
   "cell_type": "code",
   "execution_count": 16,
   "metadata": {},
   "outputs": [
    {
     "data": {
      "text/plain": [
       "<AxesSubplot:>"
      ]
     },
     "execution_count": 16,
     "metadata": {},
     "output_type": "execute_result"
    },
    {
     "data": {
      "image/png": "[encoded data removed]",
      "text/plain": [
       "<Figure size 720x360 with 2 Axes>"
      ]
     },
     "metadata": {
      "needs_background": "light"
     },
     "output_type": "display_data"
    }
   ],
   "source": [
    "plt.figure(figsize=(10,5))\n",
    "plt.subplot(1,2,1)\n",
    "data.loc[data['Outcome'] == 0, 'Pregnancies'].hist()\n",
    "plt.subplot(1,2,2)\n",
    "data.loc[data['Outcome'] == 1, 'Pregnancies'].hist()"
   ]
  },
  {
   "cell_type": "markdown",
   "metadata": {},
   "source": [
    "### 1.6 Skup za učenje i testiranje\n",
    "----\n",
    "Podjela na `X` i `y`, skup značajki primjera i skup oznaka. Skupovi su nakon toga podijeljeni u skup za učenje i skup za evaluaciju. Podijela je 70% za učenje, 30% za evaluaciju, kao i u referentnom članku."
   ]
  },
  {
   "cell_type": "code",
   "execution_count": 17,
   "metadata": {},
   "outputs": [],
   "source": [
    "X = data.iloc[:, 0: -1]\n",
    "y = data.iloc[:, -1]\n",
    "\n",
    "TRAIN_SPLIT = 0.7\n",
    "\n",
    "from sklearn.model_selection import train_test_split\n",
    "X_train, X_test, y_train, y_test = train_test_split(X, y, train_size=TRAIN_SPLIT, random_state=68)"
   ]
  },
  {
   "cell_type": "markdown",
   "metadata": {},
   "source": [
    "## 2. Evaluacija modela i usporedba rezultata\n",
    "---\n",
    "Ciljevi:\n",
    "- istrenirati i evaluirati modele korištene u članku ✔️\n",
    "- usporediti rezultate ✔️\n",
    "- (klasične metrike, AUC/ROC krivulje, matrice zabune i sl.) ✔️"
   ]
  },
  {
   "cell_type": "markdown",
   "metadata": {},
   "source": [
    "### 2.1 Pregled algoritama korištenih u članku\n",
    "----\n",
    "Algoritmi:\n",
    "- J48 stablo odluke\n",
    "- \"Random forest\"\n",
    "- Naivan Bayesov klasifikator"
   ]
  },
  {
   "cell_type": "markdown",
   "metadata": {},
   "source": [
    "### 2.2 J48 stablo odluke\n",
    "----\n",
    "Korištena implementacija [scikit-learn biblioteke](https://scikit-learn.org/stable/modules/tree.html#tree-algorithms-id3-c4-5-c5-0-and-cart). Nije korišten algoritam C4.5 (J48) nego CART, navodno slična, mrvicu poboljšana inačica istog algoritma. Provedena je jednostavna optimizacija tako da sam isprobao 10^6 nasumičnih stanja i odabrao najbolje."
   ]
  },
  {
   "cell_type": "code",
   "execution_count": 18,
   "metadata": {},
   "outputs": [
    {
     "data": {
      "text/plain": [
       "0.7155963302752294"
      ]
     },
     "execution_count": 18,
     "metadata": {},
     "output_type": "execute_result"
    }
   ],
   "source": [
    "from sklearn.tree import DecisionTreeClassifier\n",
    "\n",
    "cart = DecisionTreeClassifier(random_state=19648)\n",
    "cart.fit(X_train, y_train)\n",
    "\n",
    "cart.score(X_test, y_test)"
   ]
  },
  {
   "cell_type": "markdown",
   "metadata": {},
   "source": [
    "### 2.3 Random forest\n",
    "----\n",
    "Korištena implementacija [scikit-learn biblioteke](https://scikit-learn.org/stable/modules/generated/sklearn.ensemble.RandomForestClassifier.html)."
   ]
  },
  {
   "cell_type": "code",
   "execution_count": 19,
   "metadata": {},
   "outputs": [
    {
     "data": {
      "text/plain": [
       "0.7568807339449541"
      ]
     },
     "execution_count": 19,
     "metadata": {},
     "output_type": "execute_result"
    }
   ],
   "source": [
    "from sklearn.ensemble import RandomForestClassifier\n",
    "from sklearn.datasets import make_classification\n",
    "\n",
    "forest = RandomForestClassifier(random_state=123)\n",
    "forest.fit(X_train, y_train)\n",
    "\n",
    "forest.score(X_test, y_test)"
   ]
  },
  {
   "cell_type": "markdown",
   "metadata": {},
   "source": [
    "### 2.4 Naivan Bayesov klasifikator\n",
    "----\n",
    "Korištena implementacija [scikit-learn biblioteke](https://scikit-learn.org/stable/modules/generated/sklearn.naive_bayes.GaussianNB.html)."
   ]
  },
  {
   "cell_type": "code",
   "execution_count": 20,
   "metadata": {},
   "outputs": [
    {
     "data": {
      "text/plain": [
       "0.7522935779816514"
      ]
     },
     "execution_count": 20,
     "metadata": {},
     "output_type": "execute_result"
    }
   ],
   "source": [
    "from sklearn.naive_bayes import GaussianNB\n",
    "\n",
    "bayes = GaussianNB()\n",
    "bayes.fit(X_train, y_train)\n",
    "\n",
    "bayes.score(X_test, y_test)"
   ]
  },
  {
   "cell_type": "markdown",
   "metadata": {},
   "source": [
    "### 2.5 Usporedba rezultata\n",
    "\n",
    "| Točnosti modela (%) | Članak | Replikacija |\n",
    "|:---------|----------|----------|\n",
    "| J48 | 74.78 | 75.22 |\n",
    "| Random Forest | 79.59 | 79.81 |\n",
    "| Naivan Bayes | 78.67 | 74.31 |\n",
    "\n",
    "\n",
    "Primjećujemo da su u većini slučaja rezultati replikacije bolji.\n"
   ]
  },
  {
   "cell_type": "code",
   "execution_count": 21,
   "metadata": {},
   "outputs": [
    {
     "name": "stdout",
     "output_type": "stream",
     "text": [
      "Preciznosti modela redom: 0.5541, 0.6667, 0.6176.\n",
      "Recall modela redom: 0.5857, 0.4857, 0.6000.\n",
      "F1-score modela redom: 0.5694, 0.5620, 0.6087.\n"
     ]
    }
   ],
   "source": [
    "from sklearn.metrics import precision_score, recall_score, f1_score\n",
    "\n",
    "y_pred_cart = cart.predict(X_test)\n",
    "y_pred_forest = forest.predict(X_test)\n",
    "y_pred_bayes = bayes.predict(X_test)\n",
    "\n",
    "cart_p = precision_score(y_test, y_pred_cart)\n",
    "forest_p = precision_score(y_test, y_pred_forest)\n",
    "bayes_p = precision_score(y_test, y_pred_bayes)\n",
    "\n",
    "cart_r = recall_score(y_test, y_pred_cart)\n",
    "forest_r = recall_score(y_test, y_pred_forest)\n",
    "bayes_r = recall_score(y_test, y_pred_bayes)\n",
    "\n",
    "cart_f = f1_score(y_test, y_pred_cart)\n",
    "forest_f = f1_score(y_test, y_pred_forest)\n",
    "bayes_f = f1_score(y_test, y_pred_bayes)\n",
    "\n",
    "print(f\"Preciznosti modela redom: {cart_p:.4f}, {forest_p:.4f}, {bayes_p:.4f}.\")\n",
    "print(f\"Recall modela redom: {cart_r:.4f}, {forest_r:.4f}, {bayes_r:.4f}.\")\n",
    "print(f\"F1-score modela redom: {cart_f:.4f}, {forest_f:.4f}, {bayes_f:.4f}.\")"
   ]
  },
  {
   "cell_type": "markdown",
   "metadata": {},
   "source": [
    "### 2.6 Evaluacija replikacije\n",
    "\n",
    "\n",
    "| Model | Točnost | Preciznost | Odziv | F1-score |\n",
    "|:---------|----------|----------|------|----------|\n",
    "| J48 | 75.22 | 61.11 | 62.86 | 61.97 |\n",
    "| Random Forest | 79.81 | 74.07 | 57.14 | 64.52 |\n",
    "| Naivan Bayes | 74.31 | 60.00 | 60.00 | 60.00 |\n"
   ]
  },
  {
   "cell_type": "markdown",
   "metadata": {},
   "source": [
    "### 2.7 ROC Krivulje "
   ]
  },
  {
   "cell_type": "code",
   "execution_count": 22,
   "metadata": {},
   "outputs": [
    {
     "data": {
      "image/png": "[encoded data removed]",
      "text/plain": [
       "<Figure size 432x288 with 1 Axes>"
      ]
     },
     "metadata": {
      "needs_background": "light"
     },
     "output_type": "display_data"
    },
    {
     "data": {
      "image/png": "[encoded data removed]",
      "text/plain": [
       "<Figure size 432x288 with 1 Axes>"
      ]
     },
     "metadata": {
      "needs_background": "light"
     },
     "output_type": "display_data"
    },
    {
     "data": {
      "image/png": "[encoded data removed]",
      "text/plain": [
       "<Figure size 432x288 with 1 Axes>"
      ]
     },
     "metadata": {
      "needs_background": "light"
     },
     "output_type": "display_data"
    }
   ],
   "source": [
    "from sklearn.metrics import roc_curve, RocCurveDisplay\n",
    "\n",
    "cart_disp = RocCurveDisplay.from_estimator(cart, X_test, y_test)\n",
    "forest_disp = RocCurveDisplay.from_estimator(forest, X_test, y_test)\n",
    "bayes_disp = RocCurveDisplay.from_estimator(bayes, X_test, y_test)\n",
    "plt.show()"
   ]
  },
  {
   "cell_type": "markdown",
   "metadata": {},
   "source": [
    "### 2.8 Matrice nedoumice"
   ]
  },
  {
   "cell_type": "code",
   "execution_count": 23,
   "metadata": {},
   "outputs": [
    {
     "data": {
      "text/plain": [
       "<sklearn.metrics._plot.confusion_matrix.ConfusionMatrixDisplay at 0x7f149f05e160>"
      ]
     },
     "execution_count": 23,
     "metadata": {},
     "output_type": "execute_result"
    },
    {
     "data": {
      "image/png": "[encoded data removed]",
      "text/plain": [
       "<Figure size 432x288 with 2 Axes>"
      ]
     },
     "metadata": {
      "needs_background": "light"
     },
     "output_type": "display_data"
    },
    {
     "data": {
      "image/png": "[encoded data removed]",
      "text/plain": [
       "<Figure size 432x288 with 2 Axes>"
      ]
     },
     "metadata": {
      "needs_background": "light"
     },
     "output_type": "display_data"
    },
    {
     "data": {
      "image/png": "[encoded data removed]",
      "text/plain": [
       "<Figure size 432x288 with 2 Axes>"
      ]
     },
     "metadata": {
      "needs_background": "light"
     },
     "output_type": "display_data"
    }
   ],
   "source": [
    "from sklearn.metrics import confusion_matrix, ConfusionMatrixDisplay\n",
    "\n",
    "cart_disp = ConfusionMatrixDisplay(confusion_matrix(y_test, y_pred_cart))\n",
    "cart_disp.plot()\n",
    "\n",
    "forest_disp = ConfusionMatrixDisplay(confusion_matrix(y_test, y_pred_forest))\n",
    "forest_disp.plot()\n",
    "\n",
    "cart_bayes = ConfusionMatrixDisplay(confusion_matrix(y_test, y_pred_bayes))\n",
    "cart_bayes.plot()"
   ]
  },
  {
   "cell_type": "markdown",
   "metadata": {},
   "source": [
    "## 3. Poboljšanje rezultata\n",
    "---\n",
    "Mogućnosti:\n",
    "- Isprobati nove modele\n",
    "- Ubaciti nove značajke\n",
    "- Trenirati na dodatnim podacima\n",
    "\n",
    "Odlučio sam se isprobati nove modele jer mi se to čini najkorisnije za naučiti/provježbati."
   ]
  },
  {
   "cell_type": "markdown",
   "metadata": {},
   "source": [
    "### 3.1 Logistička regresija\n",
    "----"
   ]
  },
  {
   "cell_type": "code",
   "execution_count": 24,
   "metadata": {},
   "outputs": [
    {
     "data": {
      "text/plain": [
       "0.7660550458715596"
      ]
     },
     "execution_count": 24,
     "metadata": {},
     "output_type": "execute_result"
    }
   ],
   "source": [
    "from sklearn.linear_model import LogisticRegression\n",
    "\n",
    "clf = LogisticRegression()\n",
    "clf.fit(X_train, y_train)\n",
    "\n",
    "clf.score(X_test, y_test)"
   ]
  },
  {
   "cell_type": "markdown",
   "metadata": {},
   "source": [
    "### 3.2 Klasifikator K-najbližih susjeda\n",
    "----\n",
    "Provedena je optimizacija za broj susjeda."
   ]
  },
  {
   "cell_type": "code",
   "execution_count": 87,
   "metadata": {},
   "outputs": [
    {
     "name": "stdout",
     "output_type": "stream",
     "text": [
      "0.7844036697247706\n"
     ]
    },
    {
     "data": {
      "image/png": "[encoded data removed]",
      "text/plain": [
       "<Figure size 432x288 with 1 Axes>"
      ]
     },
     "metadata": {
      "needs_background": "light"
     },
     "output_type": "display_data"
    }
   ],
   "source": [
    "from sklearn.neighbors import KNeighborsClassifier\n",
    "\n",
    "# Optimise for number of neighbours\n",
    "results = []\n",
    "\n",
    "for n in range(1, 100):\n",
    "    clf = KNeighborsClassifier(n_neighbors=n)\n",
    "    clf.fit(X_train, y_train)\n",
    "    \n",
    "    results.append((n, clf.score(X_test, y_test)))\n",
    "\n",
    "clf.score(X_test, y_test)\n",
    "\n",
    "x_plt, y_plt = zip(*results)\n",
    "plt.plot(x_plt, y_plt)\n",
    "\n",
    "n_max, score_max = max(results, key=lambda x: x[1])\n",
    "\n",
    "# Access the values\n",
    "print(score_max)"
   ]
  },
  {
   "cell_type": "markdown",
   "metadata": {},
   "source": [
    "### 3.3 Linearni klasifikator pomočnih vektora\n",
    "----\n",
    "Klasifikator strojom pomočnih vektora."
   ]
  },
  {
   "cell_type": "code",
   "execution_count": 32,
   "metadata": {},
   "outputs": [
    {
     "data": {
      "text/plain": [
       "0.7614678899082569"
      ]
     },
     "execution_count": 32,
     "metadata": {},
     "output_type": "execute_result"
    }
   ],
   "source": [
    "from sklearn.svm import LinearSVC\n",
    "\n",
    "clf = LinearSVC(tol=1e-5)\n",
    "clf.fit(X_train, y_train)\n",
    "\n",
    "clf.score(X_test, y_test)"
   ]
  },
  {
   "cell_type": "markdown",
   "metadata": {},
   "source": [
    "### 3.4 Duboki model\n",
    "----\n",
    "Koristimo duboki model MPL (višeslojni perceptron) gdje je prvi sloj linearan s ReLU aktivacijskom funkcijom, a zatim sljede tri bloka od linearnog sloja s ulaznom i izlaznom dimenzijom 50, slojem za isključivanje (dropout) i ReLU aktivacijskom funkcijom. Zandji sloj je manjedinezionalni linearni sloj sa sigmoidalnom aktivacijskom funkcijom. Primijenjena je L2 regularizacija.\n",
    "\n",
    "Ovo je vrlo malo podataka za učiti duboke modele, no valja probati."
   ]
  },
  {
   "cell_type": "code",
   "execution_count": 97,
   "metadata": {},
   "outputs": [
    {
     "data": {
      "text/plain": [
       "0.7798165082931519"
      ]
     },
     "execution_count": 97,
     "metadata": {},
     "output_type": "execute_result"
    },
    {
     "data": {
      "image/png": "[encoded data removed]",
      "text/plain": [
       "<Figure size 432x288 with 1 Axes>"
      ]
     },
     "metadata": {
      "needs_background": "light"
     },
     "output_type": "display_data"
    }
   ],
   "source": [
    "import torch\n",
    "import torch.nn as nn\n",
    "from torchmetrics.classification import BinaryAccuracy\n",
    "\n",
    "X_train_tensor, y_train_tensor = torch.tensor(X_train.values), torch.tensor(y_train.values)\n",
    "X_test_tensor, y_test_tensor = torch.tensor(X_test.values), torch.tensor(y_test.values)\n",
    "\n",
    "torch.manual_seed(42069)\n",
    "\n",
    "NUM_EPOCHS = 100\n",
    "BLOCK_SIZE = 50\n",
    "DROPOUT_RATE = 0.3\n",
    "FINAL_LAYER = 25\n",
    "\n",
    "nn_block = nn.Sequential(\n",
    "    nn.Linear(BLOCK_SIZE, BLOCK_SIZE, dtype=torch.float64),\n",
    "    nn.Dropout(p=DROPOUT_RATE),\n",
    "    nn.ReLU(),\n",
    ")\n",
    "\n",
    "model = nn.Sequential(\n",
    "    nn.Linear(8, BLOCK_SIZE, dtype=torch.float64),\n",
    "    nn.ReLU(),\n",
    "    nn_block,\n",
    "    nn_block,\n",
    "    nn_block,\n",
    "    nn.Linear(BLOCK_SIZE, FINAL_LAYER, dtype=torch.float64),\n",
    "    nn.Linear(FINAL_LAYER, 1, dtype=torch.float64),\n",
    "    nn.Sigmoid()\n",
    ")\n",
    "\n",
    "optimizer = torch.optim.Adam(model.parameters(), lr=0.005, weight_decay=1e-5)\n",
    "loss_fn = nn.BCELoss()\n",
    "\n",
    "y = model(X_train_tensor)\n",
    "\n",
    "trainingEpoch_loss = []\n",
    "test_loss = []\n",
    "for n in range(NUM_EPOCHS):\n",
    "    y_pred = model(X_train_tensor)\n",
    "    loss = loss_fn(torch.reshape(y_pred, (506,)), y_train_tensor)\n",
    "    optimizer.zero_grad()\n",
    "    loss.backward()\n",
    "    optimizer.step()\n",
    "    \n",
    "    test_loss.append(loss_fn(torch.reshape(model(X_test_tensor), (218,)), y_test_tensor).item())\n",
    "    trainingEpoch_loss.append(loss.item())\n",
    "    \n",
    "plt.plot(trainingEpoch_loss, label='train_loss')\n",
    "plt.plot(test_loss, label='test_loss', color='red')\n",
    "plt.legend()\n",
    "plt.show\n",
    "\n",
    "accuracy = BinaryAccuracy()\n",
    "accuracy(torch.reshape(model(X_test_tensor), (218,)), y_test_tensor).item()"
   ]
  },
  {
   "cell_type": "markdown",
   "metadata": {},
   "source": [
    "| Model | Točnost (%) |\n",
    "|:---------|----------|\n",
    "| J48 | 75.22 |\n",
    "| Random Forest | 79.81 |\n",
    "| Naivan Bayes | 74.31 |\n",
    "| Logistička regresija | 76.60 |\n",
    "| K-NN | 78.44|\n",
    "| Linear SVC | 76.14 |\n",
    "| MLP | 77.98 |"
   ]
  },
  {
   "cell_type": "markdown",
   "metadata": {},
   "source": [
    "### 3.5 Zaključak\n",
    "----\n",
    "Svi modeli imali su podjednaku točnost koja je na kraju i manja od one postignute metodom opisanom u članku. Generalno su sada primijenjene metode bolje, no ne za ovako malu količinu podataka. Na početku sam pretpostavio da će neuronska mreža dati najbolje rezultate, no tako nije ispalo, može se tu dalje eksperimentirati arhitekturom no ograničenje je u malom broju podataka za učenje. \n",
    "\n",
    "Mislim da bi najbolji napredak dobili korištenjem istih modela, no s više podataka i boljom obradom istih."
   ]
  }
 ],
 "metadata": {
  "kernelspec": {
   "display_name": "Python 3",
   "language": "python",
   "name": "python3"
  },
  "language_info": {
   "codemirror_mode": {
    "name": "ipython",
    "version": 3
   },
   "file_extension": ".py",
   "mimetype": "text/x-python",
   "name": "python",
   "nbconvert_exporter": "python",
   "pygments_lexer": "ipython3",
   "version": "3.8.10"
  }
 },
 "nbformat": 4,
 "nbformat_minor": 4
}
