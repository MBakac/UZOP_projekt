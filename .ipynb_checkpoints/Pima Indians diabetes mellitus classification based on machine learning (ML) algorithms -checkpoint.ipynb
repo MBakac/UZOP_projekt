{
 "cells": [
  {
   "cell_type": "markdown",
   "metadata": {},
   "source": [
    "# Pima Indians diabetes mellitus classification based on machine learning (ML) algorithms\n",
    "### Projekt iz predmeta Uvod u znanost o podacima\n",
    "---\n",
    "#### Autor: Martin Bakač"
   ]
  },
  {
   "cell_type": "markdown",
   "metadata": {},
   "source": [
    "## 1. Priprema i vizualizacija podataka \n",
    "---\n",
    "Ciljevi:\n",
    "- učitati podatke\n",
    "- provjeriti koji sve tipovi podataka postoje i prikazati deskriptivnu statistiku podataka\n",
    "- provjeriti postoje li nedostajuće vrijednosti i stršeće vrijednosti\n",
    "- vizualizirati podatke na nekoliko različitih načina (npr. histogram značajki, linijski dijagrami vremenskih nizova, točkasti dijagrami u ovisnosti o ciljnoj klasi)"
   ]
  },
  {
   "cell_type": "code",
   "execution_count": 12,
   "metadata": {},
   "outputs": [],
   "source": [
    "# import libraries\n",
    "\n",
    "import csv\n",
    "import numpy as np"
   ]
  },
  {
   "cell_type": "code",
   "execution_count": 17,
   "metadata": {},
   "outputs": [
    {
     "data": {
      "text/plain": [
       "['Pregnancies',\n",
       " 'Glucose',\n",
       " 'BloodPressure',\n",
       " 'SkinThickness',\n",
       " 'Insulin',\n",
       " 'BMI',\n",
       " 'DiabetesPedigreeFunction',\n",
       " 'Age',\n",
       " 'Outcome']"
      ]
     },
     "execution_count": 17,
     "metadata": {},
     "output_type": "execute_result"
    }
   ],
   "source": [
    "# load data\n",
    "\n",
    "with open('diabetes.csv') as f:\n",
    "    file = sample_data = list(csv.reader(f, delimiter=\",\"))\n",
    "\n",
    "headers = file[0]\n",
    "data = np.array(file[1:])"
   ]
  },
  {
   "cell_type": "markdown",
   "metadata": {},
   "source": [
    "| Podatak | Vrsta |\n",
    "|--------------|-------------|\n",
    "| Pregnanices  | Cijeli broj |\n",
    "| Glucose | \n",
    "| BloodPressure |\n",
    "| SkinThickness |\n",
    "| Insulin |\n",
    "| BMI |\n",
    "| DiabetesPedigreeFunction |\n",
    "| Age |\n",
    "| Outcome | "
   ]
  }
 ],
 "metadata": {
  "kernelspec": {
   "display_name": "Python 3",
   "language": "python",
   "name": "python3"
  },
  "language_info": {
   "codemirror_mode": {
    "name": "ipython",
    "version": 3
   },
   "file_extension": ".py",
   "mimetype": "text/x-python",
   "name": "python",
   "nbconvert_exporter": "python",
   "pygments_lexer": "ipython3",
   "version": "3.8.10"
  }
 },
 "nbformat": 4,
 "nbformat_minor": 4
}
